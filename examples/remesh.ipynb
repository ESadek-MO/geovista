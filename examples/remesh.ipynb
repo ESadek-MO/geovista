{
 "cells": [
  {
   "cell_type": "markdown",
   "id": "b3bd5305",
   "metadata": {},
   "source": [
    "# NG-VAT: Sprint-26"
   ]
  },
  {
   "cell_type": "markdown",
   "id": "327c54d9",
   "metadata": {},
   "source": [
    "## Notebook Configuration"
   ]
  },
  {
   "cell_type": "markdown",
   "id": "eb82ddac",
   "metadata": {},
   "source": [
    "First, some necessary configuration..."
   ]
  },
  {
   "cell_type": "code",
   "execution_count": null,
   "id": "eca96323",
   "metadata": {},
   "outputs": [],
   "source": [
    "import iris\n",
    "from iris.experimental.ugrid import PARSE_UGRID_ON_LOAD\n",
    "import numpy as np\n",
    "import pyvista as pv\n",
    "\n",
    "import geovista as gv\n",
    "from geovista.filters import cast_UnstructuredGrid_to_PolyData as cast"
   ]
  },
  {
   "cell_type": "code",
   "execution_count": null,
   "id": "9e01da6b",
   "metadata": {},
   "outputs": [],
   "source": [
    "pv.set_jupyter_backend(\"pythreejs\")"
   ]
  },
  {
   "cell_type": "markdown",
   "id": "47884a62",
   "metadata": {},
   "source": [
    "----"
   ]
  },
  {
   "cell_type": "markdown",
   "id": "6134e645",
   "metadata": {},
   "source": [
    "## Utility Functions"
   ]
  },
  {
   "cell_type": "markdown",
   "id": "1d3b6fec",
   "metadata": {},
   "source": [
    "For convenience sake, create some utility functions to load assorted data that is unstructured and structured..."
   ]
  },
  {
   "cell_type": "code",
   "execution_count": null,
   "id": "b371da35",
   "metadata": {},
   "outputs": [],
   "source": [
    "def load_fesom(data=False):\n",
    "    fname = \"./tos_Omon_AWI-ESM-1-1-LR_historical_r1i1p1f1_gn_185001-185012.nc\"\n",
    "    cube = iris.load_cube(fname, \"tos\")[0]\n",
    "\n",
    "    lons = cube.coord(\"longitude\").bounds\n",
    "    lats = cube.coord(\"latitude\").bounds\n",
    "    \n",
    "    data = cube.data if data else None\n",
    "\n",
    "    mesh = gv.Transform.from_unstructured(\n",
    "        lons, lats, lons.shape, data=data, name=cube.name()\n",
    "    )\n",
    "    \n",
    "    if data is None:\n",
    "        mesh.active_scalars_name = None\n",
    "    \n",
    "    return mesh"
   ]
  },
  {
   "cell_type": "code",
   "execution_count": null,
   "id": "7d1a2fc2",
   "metadata": {},
   "outputs": [],
   "source": [
    "def load_lfric(data=False):\n",
    "    fname = \"./qrclim.sst.ugrid.nc\"\n",
    "    with PARSE_UGRID_ON_LOAD.context():\n",
    "        cube = iris.load_cube(fname)[0]\n",
    "\n",
    "    data = cube.data if data else None\n",
    "        \n",
    "    face_node = cube.mesh.face_node_connectivity\n",
    "    indices = face_node.indices_by_location()\n",
    "    lons, lats = cube.mesh.node_coords\n",
    "\n",
    "    mesh = gv.Transform.from_unstructured(\n",
    "        lons.points,\n",
    "        lats.points,\n",
    "        indices,\n",
    "        data=data,\n",
    "        start_index=face_node.start_index,\n",
    "        name=cube.name(),\n",
    "    )\n",
    "\n",
    "    if data is None:\n",
    "        mesh.active_scalars_name = None\n",
    "    \n",
    "    return mesh"
   ]
  },
  {
   "cell_type": "code",
   "execution_count": null,
   "id": "fff65d5c",
   "metadata": {},
   "outputs": [],
   "source": [
    "def load_synthetic(data=False):\n",
    "    M, N = 45, 90\n",
    "    lats = np.linspace(-90, 90, M + 1)\n",
    "    lons = np.linspace(-180, 180, N + 1)\n",
    "\n",
    "    data = np.random.random(M * N) if data else None\n",
    "        \n",
    "    mesh = gv.Transform.from_1d(lons, lats, data=data, name=\"synthetic\")\n",
    "    \n",
    "    if data is None:\n",
    "        mesh.active_scalars_name = None\n",
    "    \n",
    "    return mesh"
   ]
  },
  {
   "cell_type": "markdown",
   "id": "f460f733",
   "metadata": {},
   "source": [
    "## Meridian Extract"
   ]
  },
  {
   "cell_type": "markdown",
   "id": "c56bb081",
   "metadata": {},
   "source": [
    "In order to support planar projections, we need the ability to determine where to **rip**, or **create a seam** in the mesh at the required **anti-meridian** of the **central longitude** of the chosen projection."
   ]
  },
  {
   "cell_type": "markdown",
   "id": "d1b2444e",
   "metadata": {},
   "source": [
    "First, create some points-of-interest (POI) to help orientate us on the mesh..."
   ]
  },
  {
   "cell_type": "code",
   "execution_count": null,
   "id": "68924246",
   "metadata": {},
   "outputs": [],
   "source": [
    "from geovista.common import to_xyz\n",
    "\n",
    "poi = to_xyz([0, 0, 0, 90, -180, -90], [90, -90, 0, 0, 0, 0])\n",
    "poles = to_xyz([0, 0], [90, -90])"
   ]
  },
  {
   "cell_type": "markdown",
   "id": "a83257e0",
   "metadata": {},
   "source": [
    "Now, load a mesh..."
   ]
  },
  {
   "cell_type": "code",
   "execution_count": null,
   "id": "ed604fa3",
   "metadata": {},
   "outputs": [],
   "source": [
    "umesh = load_lfric(data=False)"
   ]
  },
  {
   "cell_type": "code",
   "execution_count": null,
   "id": "94eb2b3c",
   "metadata": {},
   "outputs": [],
   "source": [
    "umesh"
   ]
  },
  {
   "cell_type": "code",
   "execution_count": null,
   "id": "e1a20e4c",
   "metadata": {},
   "outputs": [],
   "source": [
    "plotter = gv.GeoPlotter()\n",
    "\n",
    "plotter.add_mesh(umesh, cmap=\"balance\", show_edges=True)\n",
    "plotter.add_coastlines()\n",
    "#plotter.add_base_layer(color=\"grey\")\n",
    "\n",
    "plotter.show()"
   ]
  },
  {
   "cell_type": "code",
   "execution_count": null,
   "id": "2c2cf3ab",
   "metadata": {},
   "outputs": [],
   "source": [
    "from geovista.core import Slicer, logger\n",
    "\n",
    "logger.setLevel(\"INFO\")\n",
    "meridian = 45\n",
    "\n",
    "slicer = Slicer(umesh, meridian)\n",
    "\n",
    "bias = \"west\"\n",
    "clip = True\n",
    "mesh_split = slicer.extract(bias=bias, whole_cells=False, clip=clip)\n",
    "mesh_whole = slicer.extract(bias=bias, split_cells=False, clip=clip)\n",
    "\n",
    "plotter = gv.GeoPlotter()\n",
    "\n",
    "plotter.add_base_layer(color=\"grey\")\n",
    "plotter.add_coastlines()\n",
    "\n",
    "if mesh_split.n_cells:\n",
    "    plotter.add_mesh(mesh_split, show_edges=True, color=\"pink\")\n",
    "if mesh_whole.n_cells:\n",
    "    plotter.add_mesh(mesh_whole, show_edges=True, color=\"red\")\n",
    "    \n",
    "plotter.add_mesh(slicer.slices[\"exact\"], color=\"green\")\n",
    "\n",
    "plotter.add_points(poi, color=\"blue\", render_points_as_spheres=True, point_size=10)\n",
    "plotter.show()"
   ]
  },
  {
   "cell_type": "markdown",
   "id": "9a8a45f0",
   "metadata": {},
   "source": [
    "----"
   ]
  },
  {
   "cell_type": "markdown",
   "id": "176ebdaf",
   "metadata": {},
   "source": [
    "## Remeshing"
   ]
  },
  {
   "cell_type": "markdown",
   "id": "7dfb374f",
   "metadata": {},
   "source": [
    "Given that we can **extract** the mesh cell faces that **intersect or touch** a specific meridian, we now need the ability to **split cells** that the meridian **cuts through**.\n",
    "\n",
    "This technique is called **remeshing** and involved triangulating the mesh."
   ]
  },
  {
   "cell_type": "code",
   "execution_count": null,
   "id": "f1a2ded6",
   "metadata": {},
   "outputs": [],
   "source": [
    "umesh = load_lfric(data=False)"
   ]
  },
  {
   "cell_type": "code",
   "execution_count": null,
   "id": "28d7249e",
   "metadata": {},
   "outputs": [],
   "source": [
    "umesh"
   ]
  },
  {
   "cell_type": "code",
   "execution_count": null,
   "id": "60ec81e9",
   "metadata": {},
   "outputs": [],
   "source": [
    "umesh.active_scalars_name = None"
   ]
  },
  {
   "cell_type": "code",
   "execution_count": null,
   "id": "6d9d5e78",
   "metadata": {},
   "outputs": [],
   "source": [
    "print(f\"{meridian=}\")"
   ]
  },
  {
   "cell_type": "markdown",
   "id": "3204fef8",
   "metadata": {},
   "source": [
    "This remeshing tequnique requires a `PolyData` mesh and a `PolyData` plane to determine the points of intersection for remeshing.\n",
    "\n",
    "First, let's create a `PolyData` plane for the meridian..."
   ]
  },
  {
   "cell_type": "code",
   "execution_count": null,
   "id": "d1d03106",
   "metadata": {},
   "outputs": [],
   "source": [
    "plane = pv.Plane(center=(0.75, 0, 0), i_resolution=10, j_resolution=10, i_size=1.5, j_size=2.5, direction=(0, 1, 0))\n",
    "plane.rotate_z(meridian, inplace=True)"
   ]
  },
  {
   "cell_type": "markdown",
   "id": "5a002cf6",
   "metadata": {},
   "source": [
    "Let's see what that looks like..."
   ]
  },
  {
   "cell_type": "code",
   "execution_count": null,
   "id": "a99daf38",
   "metadata": {},
   "outputs": [],
   "source": [
    "plotter = gv.GeoPlotter()\n",
    "\n",
    "plotter.add_mesh(plane, show_edges=True, opacity=1.0)\n",
    "#plotter.add_mesh(umesh, cmap=\"balance\", show_edges=False)\n",
    "\n",
    "plotter.add_coastlines()\n",
    "plotter.add_axes()\n",
    "plotter.show()"
   ]
  },
  {
   "cell_type": "markdown",
   "id": "6de49a20",
   "metadata": {},
   "source": [
    "Ensure that the mesh is a `PolyData` and not an `UnstructuredGrid`..."
   ]
  },
  {
   "cell_type": "code",
   "execution_count": null,
   "id": "4231e893",
   "metadata": {},
   "outputs": [],
   "source": [
    "mesh_split"
   ]
  },
  {
   "cell_type": "code",
   "execution_count": null,
   "id": "ba63f852",
   "metadata": {},
   "outputs": [],
   "source": [
    "mesh_split = cast(mesh_split)"
   ]
  },
  {
   "cell_type": "code",
   "execution_count": null,
   "id": "76d5954f",
   "metadata": {},
   "outputs": [],
   "source": [
    "mesh_split"
   ]
  },
  {
   "cell_type": "markdown",
   "id": "30491f80",
   "metadata": {},
   "source": [
    "Let's remind ourselves what the `mesh_split` mesh looks like..."
   ]
  },
  {
   "cell_type": "code",
   "execution_count": null,
   "id": "6e6b5589",
   "metadata": {},
   "outputs": [],
   "source": [
    "plotter = gv.GeoPlotter()\n",
    "\n",
    "#plotter.add_mesh(plane, show_edges=True, opacity=0.5)\n",
    "plotter.add_mesh(mesh_split, show_edges=True)\n",
    "\n",
    "plotter.add_points(poles, color=\"blue\", render_points_as_spheres=True, point_size=10)\n",
    "plotter.add_coastlines()\n",
    "plotter.add_axes()\n",
    "plotter.show()"
   ]
  },
  {
   "cell_type": "markdown",
   "id": "9d9756d7",
   "metadata": {},
   "source": [
    "Time to remesh..."
   ]
  },
  {
   "cell_type": "code",
   "execution_count": null,
   "id": "1b4a1555",
   "metadata": {},
   "outputs": [],
   "source": [
    "from geovista.filters import remesh, logger\n",
    "\n",
    "logger.setLevel(\"INFO\")\n",
    "\n",
    "triangulated, intersection, remeshed = remesh(mesh_split, plane)"
   ]
  },
  {
   "cell_type": "code",
   "execution_count": null,
   "id": "8ca11ede",
   "metadata": {},
   "outputs": [],
   "source": [
    "triangulated.active_scalars_name = None\n",
    "remeshed.active_scalars_name = None"
   ]
  },
  {
   "cell_type": "markdown",
   "id": "280b8dec",
   "metadata": {},
   "source": [
    "The intersection mesh contains various useful index information from the **vtkIntersectionPolyDataFilter**..."
   ]
  },
  {
   "cell_type": "code",
   "execution_count": null,
   "id": "646b8bb7",
   "metadata": {},
   "outputs": [],
   "source": [
    "intersection"
   ]
  },
  {
   "cell_type": "markdown",
   "id": "cb8082c9",
   "metadata": {},
   "source": [
    "Let's see the triangulated input mesh passed to the **vtkIntersectionPolyDataFilter**..."
   ]
  },
  {
   "cell_type": "code",
   "execution_count": null,
   "id": "cb104e24",
   "metadata": {},
   "outputs": [],
   "source": [
    "plotter = gv.GeoPlotter()\n",
    "\n",
    "#plotter.add_mesh(plane, show_edges=True, opacity=0.5)\n",
    "plotter.add_mesh(triangulated, show_edges=True)\n",
    "\n",
    "plotter.add_points(poles, color=\"blue\", render_points_as_spheres=True, point_size=10)\n",
    "plotter.add_coastlines()\n",
    "plotter.add_axes()\n",
    "plotter.show()"
   ]
  },
  {
   "cell_type": "markdown",
   "id": "84ee90f9",
   "metadata": {},
   "source": [
    "Now let's see the resultant **remeshed** output from the **vtkIntersectionPolyDataFilter**..."
   ]
  },
  {
   "cell_type": "code",
   "execution_count": null,
   "id": "9f10a491",
   "metadata": {},
   "outputs": [],
   "source": [
    "plotter = gv.GeoPlotter()\n",
    "\n",
    "#plotter.add_mesh(plane, show_edges=True, opacity=0.5)\n",
    "plotter.add_mesh(remeshed, show_edges=True)\n",
    "\n",
    "plotter.add_points(poles, color=\"blue\", render_points_as_spheres=True, point_size=10)\n",
    "plotter.add_coastlines()\n",
    "plotter.add_axes()\n",
    "plotter.show()"
   ]
  },
  {
   "cell_type": "markdown",
   "id": "02897ec5",
   "metadata": {},
   "source": [
    "----"
   ]
  },
  {
   "cell_type": "markdown",
   "id": "f2e2c057",
   "metadata": {},
   "source": [
    "## CRS"
   ]
  },
  {
   "cell_type": "code",
   "execution_count": null,
   "id": "c763540a",
   "metadata": {},
   "outputs": [],
   "source": []
  }
 ],
 "metadata": {
  "kernelspec": {
   "display_name": "Python 3 (ipykernel)",
   "language": "python",
   "name": "python3"
  },
  "language_info": {
   "codemirror_mode": {
    "name": "ipython",
    "version": 3
   },
   "file_extension": ".py",
   "mimetype": "text/x-python",
   "name": "python",
   "nbconvert_exporter": "python",
   "pygments_lexer": "ipython3",
   "version": "3.10.2"
  }
 },
 "nbformat": 4,
 "nbformat_minor": 5
}
